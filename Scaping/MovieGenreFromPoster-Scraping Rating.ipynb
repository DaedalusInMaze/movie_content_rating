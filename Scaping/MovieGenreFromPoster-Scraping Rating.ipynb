{
 "cells": [
  {
   "cell_type": "markdown",
   "metadata": {},
   "source": [
    "##### <h1 style=\"text-align:center;\"> Movie Content Rating Classification from their Poster Image using CNNs</h1>\n",
    "\n",
    "<h3 style=\"text-align:center;\">- Final Project -</h3>\n",
    "<h5 style=\"text-align:center;\">author: Curtis Zhuang</h5>\n",
    "\n",
    "# Introduction \n",
    "### Problem Description\n",
    "This project has the aim to achieve ***movie content rating classi\u001bcation based only on movie poster images.*** <br>\n",
    "\n",
    "For movies, content rating is a important aspect as it specifies what the target audience will be and reflects what content may be contained within the movie. While by searching a movie, one can easily see what the rating is, our group thinks it may also be helpful if one can judge from looking at the poster alone. And that is what we do for our real-time system. Once the client receives a poster, it will be able to tell what the content rating is.\n",
    "\n",
    "### Proposed Approach\n",
    "We adopted the *Deep Neural Network* (**Convolutional Neural Network**) to classify a given movie poster image content rating.\n",
    "\n",
    "Our data is collected from Kaggle **IMDB 5000 Movie Dataset** (source: https://www.kaggle.com/carolzhangdc/imdb-5000-movie-dataset) as it contains content rating as a variable. <br>\n",
    "\n",
    "We use a **Web Scraping approach** with the IMDb id of each movie retrieve its poster image from the IMDB movie page and save it locally. \n",
    "\n",
    "We then  construct our Convolutional Neural Network in order to classify movie content ratings basing on poster characteristics and saved the model for our client.\n",
    "\n",
    "Once the modeling part is done, we went on design our **client-server part**. The basic structure follows that our client sends a movie name to the server where the server will download the poster and sends it back to our client. And the picture will then be used in model and predict its content rating.\n",
    "\n",
    "### Acknowledgement\n",
    "\n",
    "**This project is based on the work by Davide Iacobelli on his repo: https://github.com/davideiacobs/-Movie-Genres-Classification-from-their-Poster-Image-using-CNNs.**\n",
    "\n",
    "\n",
    "# Step 1: _Webscraping_\n",
    " \n",
    "We got the dataset and cleaned it until we are left with only the essential variables, we then cleand our data for ease of scraping. \n",
    "In this task we use ***BeautifulSoup***, a Python Framework for Webscraping. <br>\n",
    "\n",
    "*Through Webscraping we can easily get the poster link of each film simply going on its IMDB page and taking the content of the _src_ HTML tag corresponding to the poster.* (Original words from the Davide Project.)\n",
    "\n",
    "Once we have all poster links, we add them to our dataset.\n",
    "<br><br>\n",
    "\n",
    "\n"
   ]
  },
  {
   "cell_type": "code",
   "execution_count": 4,
   "metadata": {},
   "outputs": [],
   "source": [
    "import numpy as np\n",
    "import pandas as pd\n",
    "import glob\n",
    "import os\n",
    "import scipy.misc\n",
    "import imageio\n",
    "import skimage.transform\n",
    "import skimage\n",
    "from tqdm import tqdm\n",
    "import requests  \n",
    "import re\n",
    "from bs4 import BeautifulSoup  \n",
    "from urllib.request import urlretrieve\n",
    "import ast \n",
    "import matplotlib.pyplot as plt \n",
    "\n",
    "\n",
    "savelocation = 'imdb_posters/'"
   ]
  },
  {
   "cell_type": "markdown",
   "metadata": {},
   "source": [
    "### Dataset Cleaning"
   ]
  },
  {
   "cell_type": "code",
   "execution_count": 15,
   "metadata": {},
   "outputs": [],
   "source": [
    "movie = pd.read_csv('movie_metadata.csv', header = 1)"
   ]
  },
  {
   "cell_type": "code",
   "execution_count": 16,
   "metadata": {},
   "outputs": [
    {
     "data": {
      "text/plain": [
       "5043"
      ]
     },
     "execution_count": 16,
     "metadata": {},
     "output_type": "execute_result"
    }
   ],
   "source": [
    "len(movie)"
   ]
  },
  {
   "cell_type": "code",
   "execution_count": 17,
   "metadata": {},
   "outputs": [
    {
     "data": {
      "text/html": [
       "<div>\n",
       "<style scoped>\n",
       "    .dataframe tbody tr th:only-of-type {\n",
       "        vertical-align: middle;\n",
       "    }\n",
       "\n",
       "    .dataframe tbody tr th {\n",
       "        vertical-align: top;\n",
       "    }\n",
       "\n",
       "    .dataframe thead th {\n",
       "        text-align: right;\n",
       "    }\n",
       "</style>\n",
       "<table border=\"1\" class=\"dataframe\">\n",
       "  <thead>\n",
       "    <tr style=\"text-align: right;\">\n",
       "      <th></th>\n",
       "      <th>genres</th>\n",
       "      <th>movie_title</th>\n",
       "      <th>movie_imdb_link</th>\n",
       "      <th>content_rating</th>\n",
       "    </tr>\n",
       "  </thead>\n",
       "  <tbody>\n",
       "    <tr>\n",
       "      <th>0</th>\n",
       "      <td>Action|Adventure|Fantasy|Sci-Fi</td>\n",
       "      <td>Avatar聽</td>\n",
       "      <td>http://www.imdb.com/title/tt0499549/?ref_=fn_t...</td>\n",
       "      <td>PG-13</td>\n",
       "    </tr>\n",
       "    <tr>\n",
       "      <th>1</th>\n",
       "      <td>Action|Adventure|Fantasy</td>\n",
       "      <td>Pirates of the Caribbean: At World's End聽</td>\n",
       "      <td>http://www.imdb.com/title/tt0449088/?ref_=fn_t...</td>\n",
       "      <td>PG-13</td>\n",
       "    </tr>\n",
       "    <tr>\n",
       "      <th>2</th>\n",
       "      <td>Action|Adventure|Thriller</td>\n",
       "      <td>Spectre聽</td>\n",
       "      <td>http://www.imdb.com/title/tt2379713/?ref_=fn_t...</td>\n",
       "      <td>PG-13</td>\n",
       "    </tr>\n",
       "    <tr>\n",
       "      <th>3</th>\n",
       "      <td>Action|Thriller</td>\n",
       "      <td>The Dark Knight Rises聽</td>\n",
       "      <td>http://www.imdb.com/title/tt1345836/?ref_=fn_t...</td>\n",
       "      <td>PG-13</td>\n",
       "    </tr>\n",
       "    <tr>\n",
       "      <th>4</th>\n",
       "      <td>Documentary</td>\n",
       "      <td>Star Wars: Episode VII - The Force Awakens聽   ...</td>\n",
       "      <td>http://www.imdb.com/title/tt5289954/?ref_=fn_t...</td>\n",
       "      <td>NaN</td>\n",
       "    </tr>\n",
       "    <tr>\n",
       "      <th>...</th>\n",
       "      <td>...</td>\n",
       "      <td>...</td>\n",
       "      <td>...</td>\n",
       "      <td>...</td>\n",
       "    </tr>\n",
       "    <tr>\n",
       "      <th>5038</th>\n",
       "      <td>Comedy|Drama</td>\n",
       "      <td>Signed Sealed Delivered聽</td>\n",
       "      <td>http://www.imdb.com/title/tt3000844/?ref_=fn_t...</td>\n",
       "      <td>NaN</td>\n",
       "    </tr>\n",
       "    <tr>\n",
       "      <th>5039</th>\n",
       "      <td>Crime|Drama|Mystery|Thriller</td>\n",
       "      <td>The Following聽</td>\n",
       "      <td>http://www.imdb.com/title/tt2071645/?ref_=fn_t...</td>\n",
       "      <td>TV-14</td>\n",
       "    </tr>\n",
       "    <tr>\n",
       "      <th>5040</th>\n",
       "      <td>Drama|Horror|Thriller</td>\n",
       "      <td>A Plague So Pleasant聽</td>\n",
       "      <td>http://www.imdb.com/title/tt2107644/?ref_=fn_t...</td>\n",
       "      <td>NaN</td>\n",
       "    </tr>\n",
       "    <tr>\n",
       "      <th>5041</th>\n",
       "      <td>Comedy|Drama|Romance</td>\n",
       "      <td>Shanghai Calling聽</td>\n",
       "      <td>http://www.imdb.com/title/tt2070597/?ref_=fn_t...</td>\n",
       "      <td>PG-13</td>\n",
       "    </tr>\n",
       "    <tr>\n",
       "      <th>5042</th>\n",
       "      <td>Documentary</td>\n",
       "      <td>My Date with Drew聽</td>\n",
       "      <td>http://www.imdb.com/title/tt0378407/?ref_=fn_t...</td>\n",
       "      <td>PG</td>\n",
       "    </tr>\n",
       "  </tbody>\n",
       "</table>\n",
       "<p>5043 rows × 4 columns</p>\n",
       "</div>"
      ],
      "text/plain": [
       "                               genres  \\\n",
       "0     Action|Adventure|Fantasy|Sci-Fi   \n",
       "1            Action|Adventure|Fantasy   \n",
       "2           Action|Adventure|Thriller   \n",
       "3                     Action|Thriller   \n",
       "4                         Documentary   \n",
       "...                               ...   \n",
       "5038                     Comedy|Drama   \n",
       "5039     Crime|Drama|Mystery|Thriller   \n",
       "5040            Drama|Horror|Thriller   \n",
       "5041             Comedy|Drama|Romance   \n",
       "5042                      Documentary   \n",
       "\n",
       "                                            movie_title  \\\n",
       "0                                               Avatar聽   \n",
       "1             Pirates of the Caribbean: At World's End聽   \n",
       "2                                              Spectre聽   \n",
       "3                                The Dark Knight Rises聽   \n",
       "4     Star Wars: Episode VII - The Force Awakens聽   ...   \n",
       "...                                                 ...   \n",
       "5038                           Signed Sealed Delivered聽   \n",
       "5039                         The Following聽               \n",
       "5040                              A Plague So Pleasant聽   \n",
       "5041                                  Shanghai Calling聽   \n",
       "5042                                 My Date with Drew聽   \n",
       "\n",
       "                                        movie_imdb_link content_rating  \n",
       "0     http://www.imdb.com/title/tt0499549/?ref_=fn_t...          PG-13  \n",
       "1     http://www.imdb.com/title/tt0449088/?ref_=fn_t...          PG-13  \n",
       "2     http://www.imdb.com/title/tt2379713/?ref_=fn_t...          PG-13  \n",
       "3     http://www.imdb.com/title/tt1345836/?ref_=fn_t...          PG-13  \n",
       "4     http://www.imdb.com/title/tt5289954/?ref_=fn_t...            NaN  \n",
       "...                                                 ...            ...  \n",
       "5038  http://www.imdb.com/title/tt3000844/?ref_=fn_t...            NaN  \n",
       "5039  http://www.imdb.com/title/tt2071645/?ref_=fn_t...          TV-14  \n",
       "5040  http://www.imdb.com/title/tt2107644/?ref_=fn_t...            NaN  \n",
       "5041  http://www.imdb.com/title/tt2070597/?ref_=fn_t...          PG-13  \n",
       "5042  http://www.imdb.com/title/tt0378407/?ref_=fn_t...             PG  \n",
       "\n",
       "[5043 rows x 4 columns]"
      ]
     },
     "execution_count": 17,
     "metadata": {},
     "output_type": "execute_result"
    }
   ],
   "source": [
    "movie"
   ]
  },
  {
   "cell_type": "code",
   "execution_count": 18,
   "metadata": {},
   "outputs": [],
   "source": [
    "### We need to drop NA ratings "
   ]
  },
  {
   "cell_type": "code",
   "execution_count": 23,
   "metadata": {},
   "outputs": [],
   "source": [
    "movie.dropna(axis = 0, subset =  ['content_rating'], inplace = True)"
   ]
  },
  {
   "cell_type": "code",
   "execution_count": 25,
   "metadata": {},
   "outputs": [
    {
     "data": {
      "text/plain": [
       "0                                         Avatar聽\n",
       "1       Pirates of the Caribbean: At World's End聽\n",
       "2                                        Spectre聽\n",
       "3                          The Dark Knight Rises聽\n",
       "5                                    John Carter聽\n",
       "                          ...                    \n",
       "5036                             The Mongol King聽\n",
       "5037                                   Newlyweds聽\n",
       "5039                   The Following聽            \n",
       "5041                            Shanghai Calling聽\n",
       "5042                           My Date with Drew聽\n",
       "Name: movie_title, Length: 4740, dtype: object"
      ]
     },
     "execution_count": 25,
     "metadata": {},
     "output_type": "execute_result"
    }
   ],
   "source": [
    "movie.movie_title"
   ]
  },
  {
   "cell_type": "code",
   "execution_count": null,
   "metadata": {},
   "outputs": [],
   "source": [
    "### Adjust Movie title"
   ]
  },
  {
   "cell_type": "code",
   "execution_count": 30,
   "metadata": {},
   "outputs": [],
   "source": [
    "movie['movie_title'] = movie.movie_title.astype('str').str.strip().str[:-1]"
   ]
  },
  {
   "cell_type": "code",
   "execution_count": 34,
   "metadata": {},
   "outputs": [],
   "source": [
    "### Drop Genre"
   ]
  },
  {
   "cell_type": "code",
   "execution_count": 35,
   "metadata": {},
   "outputs": [],
   "source": [
    "movie.drop(['genres'], axis = 1, inplace = True)"
   ]
  },
  {
   "cell_type": "code",
   "execution_count": 36,
   "metadata": {},
   "outputs": [],
   "source": [
    "### Append "
   ]
  },
  {
   "cell_type": "code",
   "execution_count": 41,
   "metadata": {},
   "outputs": [],
   "source": [
    "movie['imdb_id'] = movie.movie_imdb_link.str[26:35]"
   ]
  },
  {
   "cell_type": "code",
   "execution_count": 42,
   "metadata": {},
   "outputs": [
    {
     "data": {
      "text/plain": [
       "0       tt0499549\n",
       "1       tt0449088\n",
       "2       tt2379713\n",
       "3       tt1345836\n",
       "5       tt0401729\n",
       "          ...    \n",
       "5036    tt0430371\n",
       "5037    tt1880418\n",
       "5039    tt2071645\n",
       "5041    tt2070597\n",
       "5042    tt0378407\n",
       "Name: imdb_id, Length: 4740, dtype: object"
      ]
     },
     "execution_count": 42,
     "metadata": {},
     "output_type": "execute_result"
    }
   ],
   "source": [
    "movie.imdb_id"
   ]
  },
  {
   "cell_type": "code",
   "execution_count": 47,
   "metadata": {},
   "outputs": [],
   "source": [
    "movie.drop(['movie_imdb_link'], axis = 1, inplace = True)"
   ]
  },
  {
   "cell_type": "markdown",
   "metadata": {},
   "source": [
    "### Scraping"
   ]
  },
  {
   "cell_type": "code",
   "execution_count": 48,
   "metadata": {},
   "outputs": [],
   "source": [
    "movie['imdb_link'] = [\"https://www.imdb.com/title/\"+str(x) for x in movie['imdb_id']]"
   ]
  },
  {
   "cell_type": "code",
   "execution_count": 50,
   "metadata": {},
   "outputs": [
    {
     "name": "stderr",
     "output_type": "stream",
     "text": [
      "100%|██████████| 4740/4740 [1:06:10<00:00,  1.19it/s]\n"
     ]
    }
   ],
   "source": [
    "# with the links, we can easily access the poster links on imdb website\n",
    "imdbURLS = movie['imdb_link'].tolist()\n",
    "imdbIDS = movie['imdb_id'].tolist()\n",
    "records = [] \n",
    "counter = 0\n",
    "\n",
    "for x in tqdm(imdbURLS): \n",
    "    # web scraping\n",
    "    imdbID = imdbIDS[counter]\n",
    "    r = requests.get(x)\n",
    "    soup = BeautifulSoup(r.text, 'html.parser')  \n",
    "    results = soup.find_all('div', attrs={'class':'poster'})  \n",
    "    if results:\n",
    "        first_result = results[0]  \n",
    "        postername = first_result.find('img')['alt'] \n",
    "        imgurl = first_result.find('img')['src'] \n",
    "        records.append((x, postername, imgurl))\n",
    "    else:\n",
    "        movie = movie[movie.imdb_id != imdbID]    \n",
    "counter += 1\n"
   ]
  },
  {
   "cell_type": "code",
   "execution_count": 51,
   "metadata": {},
   "outputs": [],
   "source": [
    "poster_df = pd.DataFrame(records, columns=['imdb_link', 'postername', 'poster_link'])"
   ]
  },
  {
   "cell_type": "code",
   "execution_count": 52,
   "metadata": {},
   "outputs": [
    {
     "data": {
      "text/plain": [
       "0       https://m.media-amazon.com/images/M/MV5BMTYwOT...\n",
       "1       https://m.media-amazon.com/images/M/MV5BMjIyNj...\n",
       "2       https://m.media-amazon.com/images/M/MV5BOWQ1MD...\n",
       "3       https://m.media-amazon.com/images/M/MV5BMTk4OD...\n",
       "4       https://m.media-amazon.com/images/M/MV5BMDEwZm...\n",
       "                              ...                        \n",
       "4735    https://m.media-amazon.com/images/M/MV5BMjA2Nz...\n",
       "4736    https://m.media-amazon.com/images/M/MV5BMjAzNT...\n",
       "4737    https://m.media-amazon.com/images/M/MV5BZjgzMD...\n",
       "4738    https://m.media-amazon.com/images/M/MV5BNjA1OD...\n",
       "4739    https://m.media-amazon.com/images/M/MV5BMjM1ZG...\n",
       "Name: poster_link, Length: 4740, dtype: object"
      ]
     },
     "execution_count": 52,
     "metadata": {},
     "output_type": "execute_result"
    }
   ],
   "source": [
    "poster_df['poster_link']"
   ]
  },
  {
   "cell_type": "code",
   "execution_count": 53,
   "metadata": {},
   "outputs": [],
   "source": [
    "df_movietotal = pd.merge(movie, poster_df, on='imdb_link')"
   ]
  },
  {
   "cell_type": "code",
   "execution_count": 54,
   "metadata": {},
   "outputs": [
    {
     "data": {
      "text/html": [
       "<div>\n",
       "<style scoped>\n",
       "    .dataframe tbody tr th:only-of-type {\n",
       "        vertical-align: middle;\n",
       "    }\n",
       "\n",
       "    .dataframe tbody tr th {\n",
       "        vertical-align: top;\n",
       "    }\n",
       "\n",
       "    .dataframe thead th {\n",
       "        text-align: right;\n",
       "    }\n",
       "</style>\n",
       "<table border=\"1\" class=\"dataframe\">\n",
       "  <thead>\n",
       "    <tr style=\"text-align: right;\">\n",
       "      <th></th>\n",
       "      <th>movie_title</th>\n",
       "      <th>content_rating</th>\n",
       "      <th>imdb_id</th>\n",
       "      <th>imdb_link</th>\n",
       "      <th>postername</th>\n",
       "      <th>poster_link</th>\n",
       "    </tr>\n",
       "  </thead>\n",
       "  <tbody>\n",
       "    <tr>\n",
       "      <th>0</th>\n",
       "      <td>Avatar</td>\n",
       "      <td>PG-13</td>\n",
       "      <td>tt0499549</td>\n",
       "      <td>https://www.imdb.com/title/tt0499549</td>\n",
       "      <td>Avatar Poster</td>\n",
       "      <td>https://m.media-amazon.com/images/M/MV5BMTYwOT...</td>\n",
       "    </tr>\n",
       "    <tr>\n",
       "      <th>1</th>\n",
       "      <td>Pirates of the Caribbean: At World's End</td>\n",
       "      <td>PG-13</td>\n",
       "      <td>tt0449088</td>\n",
       "      <td>https://www.imdb.com/title/tt0449088</td>\n",
       "      <td>Pirates of the Caribbean: At World's End Poster</td>\n",
       "      <td>https://m.media-amazon.com/images/M/MV5BMjIyNj...</td>\n",
       "    </tr>\n",
       "    <tr>\n",
       "      <th>2</th>\n",
       "      <td>Spectre</td>\n",
       "      <td>PG-13</td>\n",
       "      <td>tt2379713</td>\n",
       "      <td>https://www.imdb.com/title/tt2379713</td>\n",
       "      <td>Spectre Poster</td>\n",
       "      <td>https://m.media-amazon.com/images/M/MV5BOWQ1MD...</td>\n",
       "    </tr>\n",
       "    <tr>\n",
       "      <th>3</th>\n",
       "      <td>The Dark Knight Rises</td>\n",
       "      <td>PG-13</td>\n",
       "      <td>tt1345836</td>\n",
       "      <td>https://www.imdb.com/title/tt1345836</td>\n",
       "      <td>The Dark Knight Rises Poster</td>\n",
       "      <td>https://m.media-amazon.com/images/M/MV5BMTk4OD...</td>\n",
       "    </tr>\n",
       "    <tr>\n",
       "      <th>4</th>\n",
       "      <td>John Carter</td>\n",
       "      <td>PG-13</td>\n",
       "      <td>tt0401729</td>\n",
       "      <td>https://www.imdb.com/title/tt0401729</td>\n",
       "      <td>John Carter Poster</td>\n",
       "      <td>https://m.media-amazon.com/images/M/MV5BMDEwZm...</td>\n",
       "    </tr>\n",
       "    <tr>\n",
       "      <th>...</th>\n",
       "      <td>...</td>\n",
       "      <td>...</td>\n",
       "      <td>...</td>\n",
       "      <td>...</td>\n",
       "      <td>...</td>\n",
       "      <td>...</td>\n",
       "    </tr>\n",
       "    <tr>\n",
       "      <th>4993</th>\n",
       "      <td>The Mongol King</td>\n",
       "      <td>PG-13</td>\n",
       "      <td>tt0430371</td>\n",
       "      <td>https://www.imdb.com/title/tt0430371</td>\n",
       "      <td>The Mongol King Poster</td>\n",
       "      <td>https://m.media-amazon.com/images/M/MV5BMjA2Nz...</td>\n",
       "    </tr>\n",
       "    <tr>\n",
       "      <th>4994</th>\n",
       "      <td>Newlyweds</td>\n",
       "      <td>Not Rated</td>\n",
       "      <td>tt1880418</td>\n",
       "      <td>https://www.imdb.com/title/tt1880418</td>\n",
       "      <td>Newlyweds Poster</td>\n",
       "      <td>https://m.media-amazon.com/images/M/MV5BMjAzNT...</td>\n",
       "    </tr>\n",
       "    <tr>\n",
       "      <th>4995</th>\n",
       "      <td>The Following</td>\n",
       "      <td>TV-14</td>\n",
       "      <td>tt2071645</td>\n",
       "      <td>https://www.imdb.com/title/tt2071645</td>\n",
       "      <td>The Following Poster</td>\n",
       "      <td>https://m.media-amazon.com/images/M/MV5BZjgzMD...</td>\n",
       "    </tr>\n",
       "    <tr>\n",
       "      <th>4996</th>\n",
       "      <td>Shanghai Calling</td>\n",
       "      <td>PG-13</td>\n",
       "      <td>tt2070597</td>\n",
       "      <td>https://www.imdb.com/title/tt2070597</td>\n",
       "      <td>Shanghai Calling Poster</td>\n",
       "      <td>https://m.media-amazon.com/images/M/MV5BNjA1OD...</td>\n",
       "    </tr>\n",
       "    <tr>\n",
       "      <th>4997</th>\n",
       "      <td>My Date with Drew</td>\n",
       "      <td>PG</td>\n",
       "      <td>tt0378407</td>\n",
       "      <td>https://www.imdb.com/title/tt0378407</td>\n",
       "      <td>My Date with Drew Poster</td>\n",
       "      <td>https://m.media-amazon.com/images/M/MV5BMjM1ZG...</td>\n",
       "    </tr>\n",
       "  </tbody>\n",
       "</table>\n",
       "<p>4998 rows × 6 columns</p>\n",
       "</div>"
      ],
      "text/plain": [
       "                                   movie_title content_rating    imdb_id  \\\n",
       "0                                       Avatar          PG-13  tt0499549   \n",
       "1     Pirates of the Caribbean: At World's End          PG-13  tt0449088   \n",
       "2                                      Spectre          PG-13  tt2379713   \n",
       "3                        The Dark Knight Rises          PG-13  tt1345836   \n",
       "4                                  John Carter          PG-13  tt0401729   \n",
       "...                                        ...            ...        ...   \n",
       "4993                           The Mongol King          PG-13  tt0430371   \n",
       "4994                                 Newlyweds      Not Rated  tt1880418   \n",
       "4995                             The Following          TV-14  tt2071645   \n",
       "4996                          Shanghai Calling          PG-13  tt2070597   \n",
       "4997                         My Date with Drew             PG  tt0378407   \n",
       "\n",
       "                                 imdb_link  \\\n",
       "0     https://www.imdb.com/title/tt0499549   \n",
       "1     https://www.imdb.com/title/tt0449088   \n",
       "2     https://www.imdb.com/title/tt2379713   \n",
       "3     https://www.imdb.com/title/tt1345836   \n",
       "4     https://www.imdb.com/title/tt0401729   \n",
       "...                                    ...   \n",
       "4993  https://www.imdb.com/title/tt0430371   \n",
       "4994  https://www.imdb.com/title/tt1880418   \n",
       "4995  https://www.imdb.com/title/tt2071645   \n",
       "4996  https://www.imdb.com/title/tt2070597   \n",
       "4997  https://www.imdb.com/title/tt0378407   \n",
       "\n",
       "                                           postername  \\\n",
       "0                                       Avatar Poster   \n",
       "1     Pirates of the Caribbean: At World's End Poster   \n",
       "2                                      Spectre Poster   \n",
       "3                        The Dark Knight Rises Poster   \n",
       "4                                  John Carter Poster   \n",
       "...                                               ...   \n",
       "4993                           The Mongol King Poster   \n",
       "4994                                 Newlyweds Poster   \n",
       "4995                             The Following Poster   \n",
       "4996                          Shanghai Calling Poster   \n",
       "4997                         My Date with Drew Poster   \n",
       "\n",
       "                                            poster_link  \n",
       "0     https://m.media-amazon.com/images/M/MV5BMTYwOT...  \n",
       "1     https://m.media-amazon.com/images/M/MV5BMjIyNj...  \n",
       "2     https://m.media-amazon.com/images/M/MV5BOWQ1MD...  \n",
       "3     https://m.media-amazon.com/images/M/MV5BMTk4OD...  \n",
       "4     https://m.media-amazon.com/images/M/MV5BMDEwZm...  \n",
       "...                                                 ...  \n",
       "4993  https://m.media-amazon.com/images/M/MV5BMjA2Nz...  \n",
       "4994  https://m.media-amazon.com/images/M/MV5BMjAzNT...  \n",
       "4995  https://m.media-amazon.com/images/M/MV5BZjgzMD...  \n",
       "4996  https://m.media-amazon.com/images/M/MV5BNjA1OD...  \n",
       "4997  https://m.media-amazon.com/images/M/MV5BMjM1ZG...  \n",
       "\n",
       "[4998 rows x 6 columns]"
      ]
     },
     "execution_count": 54,
     "metadata": {},
     "output_type": "execute_result"
    }
   ],
   "source": [
    "df_movietotal"
   ]
  },
  {
   "cell_type": "code",
   "execution_count": 55,
   "metadata": {},
   "outputs": [],
   "source": [
    "df_movietotal.to_csv('movie_metadataWithPoster_rating.csv', sep='\\t')"
   ]
  },
  {
   "cell_type": "markdown",
   "metadata": {},
   "source": [
    "# Step 2: _Posters Download_\n",
    "\n",
    "We obtained the links in our dataset so we can access those posters by using url retrieval."
   ]
  },
  {
   "cell_type": "code",
   "execution_count": 56,
   "metadata": {},
   "outputs": [],
   "source": [
    "df_movietotal = pd.read_csv(\"movie_metadataWithPoster_rating.csv\", sep='\\t')"
   ]
  },
  {
   "cell_type": "code",
   "execution_count": 58,
   "metadata": {},
   "outputs": [],
   "source": [
    "df_movietotal['content_rating'].replace('', np.nan, inplace=True)\n",
    "df_movietotal.dropna(inplace=True)"
   ]
  },
  {
   "cell_type": "code",
   "execution_count": 59,
   "metadata": {},
   "outputs": [
    {
     "data": {
      "text/plain": [
       "0           PG-13\n",
       "1           PG-13\n",
       "2           PG-13\n",
       "3           PG-13\n",
       "4           PG-13\n",
       "          ...    \n",
       "4993        PG-13\n",
       "4994    Not Rated\n",
       "4995        TV-14\n",
       "4996        PG-13\n",
       "4997           PG\n",
       "Name: content_rating, Length: 4996, dtype: object"
      ]
     },
     "execution_count": 59,
     "metadata": {},
     "output_type": "execute_result"
    }
   ],
   "source": [
    "df_movietotal['content_rating']"
   ]
  },
  {
   "cell_type": "code",
   "execution_count": 60,
   "metadata": {},
   "outputs": [],
   "source": [
    "df_poster = df_movietotal[['imdb_id','poster_link']]"
   ]
  },
  {
   "cell_type": "code",
   "execution_count": 61,
   "metadata": {},
   "outputs": [
    {
     "data": {
      "text/html": [
       "<div>\n",
       "<style scoped>\n",
       "    .dataframe tbody tr th:only-of-type {\n",
       "        vertical-align: middle;\n",
       "    }\n",
       "\n",
       "    .dataframe tbody tr th {\n",
       "        vertical-align: top;\n",
       "    }\n",
       "\n",
       "    .dataframe thead th {\n",
       "        text-align: right;\n",
       "    }\n",
       "</style>\n",
       "<table border=\"1\" class=\"dataframe\">\n",
       "  <thead>\n",
       "    <tr style=\"text-align: right;\">\n",
       "      <th></th>\n",
       "      <th>imdb_id</th>\n",
       "      <th>poster_link</th>\n",
       "    </tr>\n",
       "  </thead>\n",
       "  <tbody>\n",
       "    <tr>\n",
       "      <th>0</th>\n",
       "      <td>tt0499549</td>\n",
       "      <td>https://m.media-amazon.com/images/M/MV5BMTYwOT...</td>\n",
       "    </tr>\n",
       "    <tr>\n",
       "      <th>1</th>\n",
       "      <td>tt0449088</td>\n",
       "      <td>https://m.media-amazon.com/images/M/MV5BMjIyNj...</td>\n",
       "    </tr>\n",
       "    <tr>\n",
       "      <th>2</th>\n",
       "      <td>tt2379713</td>\n",
       "      <td>https://m.media-amazon.com/images/M/MV5BOWQ1MD...</td>\n",
       "    </tr>\n",
       "    <tr>\n",
       "      <th>3</th>\n",
       "      <td>tt1345836</td>\n",
       "      <td>https://m.media-amazon.com/images/M/MV5BMTk4OD...</td>\n",
       "    </tr>\n",
       "    <tr>\n",
       "      <th>4</th>\n",
       "      <td>tt0401729</td>\n",
       "      <td>https://m.media-amazon.com/images/M/MV5BMDEwZm...</td>\n",
       "    </tr>\n",
       "    <tr>\n",
       "      <th>...</th>\n",
       "      <td>...</td>\n",
       "      <td>...</td>\n",
       "    </tr>\n",
       "    <tr>\n",
       "      <th>4993</th>\n",
       "      <td>tt0430371</td>\n",
       "      <td>https://m.media-amazon.com/images/M/MV5BMjA2Nz...</td>\n",
       "    </tr>\n",
       "    <tr>\n",
       "      <th>4994</th>\n",
       "      <td>tt1880418</td>\n",
       "      <td>https://m.media-amazon.com/images/M/MV5BMjAzNT...</td>\n",
       "    </tr>\n",
       "    <tr>\n",
       "      <th>4995</th>\n",
       "      <td>tt2071645</td>\n",
       "      <td>https://m.media-amazon.com/images/M/MV5BZjgzMD...</td>\n",
       "    </tr>\n",
       "    <tr>\n",
       "      <th>4996</th>\n",
       "      <td>tt2070597</td>\n",
       "      <td>https://m.media-amazon.com/images/M/MV5BNjA1OD...</td>\n",
       "    </tr>\n",
       "    <tr>\n",
       "      <th>4997</th>\n",
       "      <td>tt0378407</td>\n",
       "      <td>https://m.media-amazon.com/images/M/MV5BMjM1ZG...</td>\n",
       "    </tr>\n",
       "  </tbody>\n",
       "</table>\n",
       "<p>4996 rows × 2 columns</p>\n",
       "</div>"
      ],
      "text/plain": [
       "        imdb_id                                        poster_link\n",
       "0     tt0499549  https://m.media-amazon.com/images/M/MV5BMTYwOT...\n",
       "1     tt0449088  https://m.media-amazon.com/images/M/MV5BMjIyNj...\n",
       "2     tt2379713  https://m.media-amazon.com/images/M/MV5BOWQ1MD...\n",
       "3     tt1345836  https://m.media-amazon.com/images/M/MV5BMTk4OD...\n",
       "4     tt0401729  https://m.media-amazon.com/images/M/MV5BMDEwZm...\n",
       "...         ...                                                ...\n",
       "4993  tt0430371  https://m.media-amazon.com/images/M/MV5BMjA2Nz...\n",
       "4994  tt1880418  https://m.media-amazon.com/images/M/MV5BMjAzNT...\n",
       "4995  tt2071645  https://m.media-amazon.com/images/M/MV5BZjgzMD...\n",
       "4996  tt2070597  https://m.media-amazon.com/images/M/MV5BNjA1OD...\n",
       "4997  tt0378407  https://m.media-amazon.com/images/M/MV5BMjM1ZG...\n",
       "\n",
       "[4996 rows x 2 columns]"
      ]
     },
     "execution_count": 61,
     "metadata": {},
     "output_type": "execute_result"
    }
   ],
   "source": [
    "df_poster"
   ]
  },
  {
   "cell_type": "code",
   "execution_count": 62,
   "metadata": {},
   "outputs": [
    {
     "data": {
      "text/plain": [
       "0       https://m.media-amazon.com/images/M/MV5BMTYwOT...\n",
       "1       https://m.media-amazon.com/images/M/MV5BMjIyNj...\n",
       "2       https://m.media-amazon.com/images/M/MV5BOWQ1MD...\n",
       "3       https://m.media-amazon.com/images/M/MV5BMTk4OD...\n",
       "4       https://m.media-amazon.com/images/M/MV5BMDEwZm...\n",
       "                              ...                        \n",
       "4993    https://m.media-amazon.com/images/M/MV5BMjA2Nz...\n",
       "4994    https://m.media-amazon.com/images/M/MV5BMjAzNT...\n",
       "4995    https://m.media-amazon.com/images/M/MV5BZjgzMD...\n",
       "4996    https://m.media-amazon.com/images/M/MV5BNjA1OD...\n",
       "4997    https://m.media-amazon.com/images/M/MV5BMjM1ZG...\n",
       "Name: poster_link, Length: 4996, dtype: object"
      ]
     },
     "execution_count": 62,
     "metadata": {},
     "output_type": "execute_result"
    }
   ],
   "source": [
    "df_poster['poster_link']"
   ]
  },
  {
   "cell_type": "code",
   "execution_count": 63,
   "metadata": {},
   "outputs": [
    {
     "name": "stderr",
     "output_type": "stream",
     "text": [
      "4996it [07:47, 10.69it/s]\n"
     ]
    }
   ],
   "source": [
    "not_found = []\n",
    "for index, row in tqdm(df_poster.iterrows()):\n",
    "    url = row['poster_link']\n",
    "    if \"https://m.media-amazon.com/images/M\" in str(url):\n",
    "        id = row['imdb_id']\n",
    "        jpgname = savelocation+id+'.jpg'\n",
    "        urlretrieve(url, jpgname)\n",
    "    else:\n",
    "        not_found.append(index)"
   ]
  },
  {
   "cell_type": "code",
   "execution_count": 64,
   "metadata": {},
   "outputs": [],
   "source": [
    "# Verify local image\n",
    "from os import listdir\n",
    "from PIL import Image\n",
    "   \n",
    "for filename in listdir(savelocation):\n",
    "    if filename.endswith('.jpg'):\n",
    "        try:\n",
    "            img = Image.open(savelocation+filename) # open the image file\n",
    "            img.verify() # verify that it is, in fact an image\n",
    "        except (IOError, SyntaxError) as e:\n",
    "            print('Bad file:', filename) # print out the names of corrupt files"
   ]
  },
  {
   "cell_type": "code",
   "execution_count": 65,
   "metadata": {},
   "outputs": [],
   "source": [
    "df_movietotal.drop(df_movietotal.index[not_found], inplace=True)"
   ]
  },
  {
   "cell_type": "code",
   "execution_count": 66,
   "metadata": {},
   "outputs": [],
   "source": [
    "columns_to_drop = []\n",
    "for i in df_movietotal.columns:\n",
    "    if \"Unnamed\" in i:\n",
    "        columns_to_drop.append(i)"
   ]
  },
  {
   "cell_type": "code",
   "execution_count": 67,
   "metadata": {},
   "outputs": [],
   "source": [
    "df_movietotal.drop(columns_to_drop, axis=1, inplace=True)"
   ]
  },
  {
   "cell_type": "code",
   "execution_count": 68,
   "metadata": {},
   "outputs": [],
   "source": [
    "df_movietotal.to_csv('movie_metadataWithPoster_rating.csv', sep='\\t')"
   ]
  }
 ],
 "metadata": {
  "kernelspec": {
   "display_name": "Python 3",
   "language": "python",
   "name": "python3"
  },
  "language_info": {
   "codemirror_mode": {
    "name": "ipython",
    "version": 3
   },
   "file_extension": ".py",
   "mimetype": "text/x-python",
   "name": "python",
   "nbconvert_exporter": "python",
   "pygments_lexer": "ipython3",
   "version": "3.8.0"
  }
 },
 "nbformat": 4,
 "nbformat_minor": 2
}
