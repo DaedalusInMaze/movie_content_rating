{
 "cells": [
  {
   "cell_type": "code",
   "execution_count": 1,
   "metadata": {},
   "outputs": [],
   "source": [
    "import numpy as np\n",
    "import pandas as pd\n",
    "import glob\n",
    "import scipy.misc\n",
    "import imageio\n",
    "import skimage\n",
    "from tqdm import tqdm\n",
    "import ast \n",
    "import matplotlib.pyplot as plt \n",
    "\n",
    "\n",
    "savelocation = 'imdb_posters/'"
   ]
  },
  {
   "cell_type": "markdown",
   "metadata": {},
   "source": [
    "# Step 3: _Dataset Manipulation_\n",
    "\n",
    "As we have all the posters and dataset locally, we could start the modeling process. But before we start building our model, we need to standardize and clean our dataset."
   ]
  },
  {
   "cell_type": "code",
   "execution_count": 2,
   "metadata": {},
   "outputs": [],
   "source": [
    "df_movietotal = pd.read_csv(\"movie_metadataWithPoster_rating2.csv\", sep=',')"
   ]
  },
  {
   "cell_type": "code",
   "execution_count": 3,
   "metadata": {},
   "outputs": [
    {
     "data": {
      "text/html": [
       "<div>\n",
       "<style scoped>\n",
       "    .dataframe tbody tr th:only-of-type {\n",
       "        vertical-align: middle;\n",
       "    }\n",
       "\n",
       "    .dataframe tbody tr th {\n",
       "        vertical-align: top;\n",
       "    }\n",
       "\n",
       "    .dataframe thead th {\n",
       "        text-align: right;\n",
       "    }\n",
       "</style>\n",
       "<table border=\"1\" class=\"dataframe\">\n",
       "  <thead>\n",
       "    <tr style=\"text-align: right;\">\n",
       "      <th></th>\n",
       "      <th>Unnamed: 0</th>\n",
       "      <th>movie_title</th>\n",
       "      <th>content_rating</th>\n",
       "      <th>imdb_id</th>\n",
       "      <th>imdb_link</th>\n",
       "      <th>postername</th>\n",
       "      <th>poster_link</th>\n",
       "    </tr>\n",
       "  </thead>\n",
       "  <tbody>\n",
       "    <tr>\n",
       "      <th>0</th>\n",
       "      <td>0</td>\n",
       "      <td>Avatar</td>\n",
       "      <td>PG-13</td>\n",
       "      <td>tt0499549</td>\n",
       "      <td>https://www.imdb.com/title/tt0499549</td>\n",
       "      <td>Avatar Poster</td>\n",
       "      <td>https://m.media-amazon.com/images/M/MV5BMTYwOT...</td>\n",
       "    </tr>\n",
       "    <tr>\n",
       "      <th>1</th>\n",
       "      <td>1</td>\n",
       "      <td>Pirates of the Caribbean: At World's End</td>\n",
       "      <td>PG-13</td>\n",
       "      <td>tt0449088</td>\n",
       "      <td>https://www.imdb.com/title/tt0449088</td>\n",
       "      <td>Pirates of the Caribbean: At World's End Poster</td>\n",
       "      <td>https://m.media-amazon.com/images/M/MV5BMjIyNj...</td>\n",
       "    </tr>\n",
       "    <tr>\n",
       "      <th>2</th>\n",
       "      <td>2</td>\n",
       "      <td>Spectre</td>\n",
       "      <td>PG-13</td>\n",
       "      <td>tt2379713</td>\n",
       "      <td>https://www.imdb.com/title/tt2379713</td>\n",
       "      <td>Spectre Poster</td>\n",
       "      <td>https://m.media-amazon.com/images/M/MV5BOWQ1MD...</td>\n",
       "    </tr>\n",
       "    <tr>\n",
       "      <th>3</th>\n",
       "      <td>3</td>\n",
       "      <td>The Dark Knight Rises</td>\n",
       "      <td>PG-13</td>\n",
       "      <td>tt1345836</td>\n",
       "      <td>https://www.imdb.com/title/tt1345836</td>\n",
       "      <td>The Dark Knight Rises Poster</td>\n",
       "      <td>https://m.media-amazon.com/images/M/MV5BMTk4OD...</td>\n",
       "    </tr>\n",
       "    <tr>\n",
       "      <th>4</th>\n",
       "      <td>4</td>\n",
       "      <td>John Carter</td>\n",
       "      <td>PG-13</td>\n",
       "      <td>tt0401729</td>\n",
       "      <td>https://www.imdb.com/title/tt0401729</td>\n",
       "      <td>John Carter Poster</td>\n",
       "      <td>https://m.media-amazon.com/images/M/MV5BMDEwZm...</td>\n",
       "    </tr>\n",
       "    <tr>\n",
       "      <th>...</th>\n",
       "      <td>...</td>\n",
       "      <td>...</td>\n",
       "      <td>...</td>\n",
       "      <td>...</td>\n",
       "      <td>...</td>\n",
       "      <td>...</td>\n",
       "      <td>...</td>\n",
       "    </tr>\n",
       "    <tr>\n",
       "      <th>4991</th>\n",
       "      <td>4993</td>\n",
       "      <td>The Mongol King</td>\n",
       "      <td>PG-13</td>\n",
       "      <td>tt0430371</td>\n",
       "      <td>https://www.imdb.com/title/tt0430371</td>\n",
       "      <td>The Mongol King Poster</td>\n",
       "      <td>https://m.media-amazon.com/images/M/MV5BMjA2Nz...</td>\n",
       "    </tr>\n",
       "    <tr>\n",
       "      <th>4992</th>\n",
       "      <td>4994</td>\n",
       "      <td>Newlyweds</td>\n",
       "      <td>Not Rated</td>\n",
       "      <td>tt1880418</td>\n",
       "      <td>https://www.imdb.com/title/tt1880418</td>\n",
       "      <td>Newlyweds Poster</td>\n",
       "      <td>https://m.media-amazon.com/images/M/MV5BMjAzNT...</td>\n",
       "    </tr>\n",
       "    <tr>\n",
       "      <th>4993</th>\n",
       "      <td>4995</td>\n",
       "      <td>The Following</td>\n",
       "      <td>TV-14</td>\n",
       "      <td>tt2071645</td>\n",
       "      <td>https://www.imdb.com/title/tt2071645</td>\n",
       "      <td>The Following Poster</td>\n",
       "      <td>https://m.media-amazon.com/images/M/MV5BZjgzMD...</td>\n",
       "    </tr>\n",
       "    <tr>\n",
       "      <th>4994</th>\n",
       "      <td>4996</td>\n",
       "      <td>Shanghai Calling</td>\n",
       "      <td>PG-13</td>\n",
       "      <td>tt2070597</td>\n",
       "      <td>https://www.imdb.com/title/tt2070597</td>\n",
       "      <td>Shanghai Calling Poster</td>\n",
       "      <td>https://m.media-amazon.com/images/M/MV5BNjA1OD...</td>\n",
       "    </tr>\n",
       "    <tr>\n",
       "      <th>4995</th>\n",
       "      <td>4997</td>\n",
       "      <td>My Date with Drew</td>\n",
       "      <td>PG</td>\n",
       "      <td>tt0378407</td>\n",
       "      <td>https://www.imdb.com/title/tt0378407</td>\n",
       "      <td>My Date with Drew Poster</td>\n",
       "      <td>https://m.media-amazon.com/images/M/MV5BMjM1ZG...</td>\n",
       "    </tr>\n",
       "  </tbody>\n",
       "</table>\n",
       "<p>4996 rows × 7 columns</p>\n",
       "</div>"
      ],
      "text/plain": [
       "      Unnamed: 0                               movie_title content_rating  \\\n",
       "0              0                                    Avatar          PG-13   \n",
       "1              1  Pirates of the Caribbean: At World's End          PG-13   \n",
       "2              2                                   Spectre          PG-13   \n",
       "3              3                     The Dark Knight Rises          PG-13   \n",
       "4              4                               John Carter          PG-13   \n",
       "...          ...                                       ...            ...   \n",
       "4991        4993                           The Mongol King          PG-13   \n",
       "4992        4994                                 Newlyweds      Not Rated   \n",
       "4993        4995                             The Following          TV-14   \n",
       "4994        4996                          Shanghai Calling          PG-13   \n",
       "4995        4997                         My Date with Drew             PG   \n",
       "\n",
       "        imdb_id                             imdb_link  \\\n",
       "0     tt0499549  https://www.imdb.com/title/tt0499549   \n",
       "1     tt0449088  https://www.imdb.com/title/tt0449088   \n",
       "2     tt2379713  https://www.imdb.com/title/tt2379713   \n",
       "3     tt1345836  https://www.imdb.com/title/tt1345836   \n",
       "4     tt0401729  https://www.imdb.com/title/tt0401729   \n",
       "...         ...                                   ...   \n",
       "4991  tt0430371  https://www.imdb.com/title/tt0430371   \n",
       "4992  tt1880418  https://www.imdb.com/title/tt1880418   \n",
       "4993  tt2071645  https://www.imdb.com/title/tt2071645   \n",
       "4994  tt2070597  https://www.imdb.com/title/tt2070597   \n",
       "4995  tt0378407  https://www.imdb.com/title/tt0378407   \n",
       "\n",
       "                                           postername  \\\n",
       "0                                       Avatar Poster   \n",
       "1     Pirates of the Caribbean: At World's End Poster   \n",
       "2                                      Spectre Poster   \n",
       "3                        The Dark Knight Rises Poster   \n",
       "4                                  John Carter Poster   \n",
       "...                                               ...   \n",
       "4991                           The Mongol King Poster   \n",
       "4992                                 Newlyweds Poster   \n",
       "4993                             The Following Poster   \n",
       "4994                          Shanghai Calling Poster   \n",
       "4995                         My Date with Drew Poster   \n",
       "\n",
       "                                            poster_link  \n",
       "0     https://m.media-amazon.com/images/M/MV5BMTYwOT...  \n",
       "1     https://m.media-amazon.com/images/M/MV5BMjIyNj...  \n",
       "2     https://m.media-amazon.com/images/M/MV5BOWQ1MD...  \n",
       "3     https://m.media-amazon.com/images/M/MV5BMTk4OD...  \n",
       "4     https://m.media-amazon.com/images/M/MV5BMDEwZm...  \n",
       "...                                                 ...  \n",
       "4991  https://m.media-amazon.com/images/M/MV5BMjA2Nz...  \n",
       "4992  https://m.media-amazon.com/images/M/MV5BMjAzNT...  \n",
       "4993  https://m.media-amazon.com/images/M/MV5BZjgzMD...  \n",
       "4994  https://m.media-amazon.com/images/M/MV5BNjA1OD...  \n",
       "4995  https://m.media-amazon.com/images/M/MV5BMjM1ZG...  \n",
       "\n",
       "[4996 rows x 7 columns]"
      ]
     },
     "execution_count": 3,
     "metadata": {},
     "output_type": "execute_result"
    }
   ],
   "source": [
    "df_movietotal"
   ]
  },
  {
   "cell_type": "code",
   "execution_count": 4,
   "metadata": {},
   "outputs": [],
   "source": [
    "df_movietotal.drop(['Unnamed: 0'], axis = 1, inplace = True)"
   ]
  },
  {
   "cell_type": "code",
   "execution_count": 5,
   "metadata": {},
   "outputs": [],
   "source": [
    "df_movietotal['id'] = df_movietotal.index"
   ]
  },
  {
   "cell_type": "code",
   "execution_count": 6,
   "metadata": {},
   "outputs": [
    {
     "data": {
      "text/plain": [
       "R            2218\n",
       "PG-13        1568\n",
       "PG            735\n",
       "Not Rated     118\n",
       "G             112\n",
       "Unrated        67\n",
       "Approved       57\n",
       "TV-14          30\n",
       "TV-MA          24\n",
       "X              15\n",
       "TV-PG          13\n",
       "TV-G           10\n",
       "Passed          9\n",
       "NC-17           7\n",
       "GP              6\n",
       "M               5\n",
       "TV-Y            1\n",
       "TV-Y7           1\n",
       "Name: content_rating, dtype: int64"
      ]
     },
     "execution_count": 6,
     "metadata": {},
     "output_type": "execute_result"
    }
   ],
   "source": [
    "df_movietotal.content_rating.value_counts()"
   ]
  },
  {
   "cell_type": "markdown",
   "metadata": {},
   "source": [
    "### Remove the content ratings that appear less than 50"
   ]
  },
  {
   "cell_type": "code",
   "execution_count": 7,
   "metadata": {},
   "outputs": [],
   "source": [
    "# Remove the content ratings that appear less than 50\n",
    "\n",
    "df_movietotal = df_movietotal[~df_movietotal[\"content_rating\"].str.contains(\"TV-Y\")]\n",
    "df_movietotal = df_movietotal[~df_movietotal[\"content_rating\"].str.contains(\"TV-Y7\")]\n",
    "df_movietotal = df_movietotal[~df_movietotal[\"content_rating\"].str.contains(\"M\")]\n",
    "df_movietotal = df_movietotal[~df_movietotal[\"content_rating\"].str.contains(\"GP\")]\n",
    "df_movietotal = df_movietotal[~df_movietotal[\"content_rating\"].str.contains(\"NC-17\")]\n",
    "df_movietotal = df_movietotal[~df_movietotal[\"content_rating\"].str.contains(\"Passed\")]\n",
    "df_movietotal = df_movietotal[~df_movietotal[\"content_rating\"].str.contains(\"TV-G\")]\n",
    "df_movietotal = df_movietotal[~df_movietotal[\"content_rating\"].str.contains(\"TV-PG\")]\n",
    "df_movietotal = df_movietotal[~df_movietotal[\"content_rating\"].str.contains(\"X\")]\n",
    "df_movietotal = df_movietotal[~df_movietotal[\"content_rating\"].str.contains(\"TV-MA\")]\n",
    "df_movietotal = df_movietotal[~df_movietotal[\"content_rating\"].str.contains(\"TV-14\")]"
   ]
  },
  {
   "cell_type": "code",
   "execution_count": 8,
   "metadata": {},
   "outputs": [
    {
     "data": {
      "text/plain": [
       "4875"
      ]
     },
     "execution_count": 8,
     "metadata": {},
     "output_type": "execute_result"
    }
   ],
   "source": [
    "len(df_movietotal)"
   ]
  },
  {
   "cell_type": "markdown",
   "metadata": {},
   "source": [
    "### We need to create dictionary so we got the labels that we can input into our CNN model"
   ]
  },
  {
   "cell_type": "code",
   "execution_count": 9,
   "metadata": {},
   "outputs": [],
   "source": [
    "label_dict = {\"word2idx\": {}, \"idx2word\": []}\n",
    "idx = 0\n",
    "rating_per_movie = df_movietotal[\"content_rating\"]\n",
    "for l in rating_per_movie:\n",
    "    if l in label_dict[\"idx2word\"]:\n",
    "        pass\n",
    "    else:\n",
    "        label_dict[\"idx2word\"].append(l)\n",
    "        label_dict[\"word2idx\"][l] = idx\n",
    "        idx += 1\n",
    "n_classes = len(label_dict[\"idx2word\"])"
   ]
  },
  {
   "cell_type": "code",
   "execution_count": 10,
   "metadata": {},
   "outputs": [
    {
     "data": {
      "text/plain": [
       "{'word2idx': {'PG-13': 0,\n",
       "  'PG': 1,\n",
       "  'G': 2,\n",
       "  'R': 3,\n",
       "  'Not Rated': 4,\n",
       "  'Unrated': 5,\n",
       "  'Approved': 6},\n",
       " 'idx2word': ['PG-13', 'PG', 'G', 'R', 'Not Rated', 'Unrated', 'Approved']}"
      ]
     },
     "execution_count": 10,
     "metadata": {},
     "output_type": "execute_result"
    }
   ],
   "source": [
    "label_dict"
   ]
  },
  {
   "cell_type": "code",
   "execution_count": 11,
   "metadata": {},
   "outputs": [],
   "source": [
    "def rating_count(df, label_dict):\n",
    "    max = 0\n",
    "    for label in label_dict[\"idx2word\"]:\n",
    "        occurrences = len((df[df['content_rating'] == label]))\n",
    "        print(label, occurrences)\n",
    "    return max"
   ]
  },
  {
   "cell_type": "code",
   "execution_count": 12,
   "metadata": {
    "scrolled": true
   },
   "outputs": [
    {
     "name": "stdout",
     "output_type": "stream",
     "text": [
      "PG-13 1568\n",
      "PG 735\n",
      "G 112\n",
      "R 2218\n",
      "Not Rated 118\n",
      "Unrated 67\n",
      "Approved 57\n"
     ]
    }
   ],
   "source": [
    "max_genre = rating_count(df_movietotal, label_dict)"
   ]
  },
  {
   "cell_type": "code",
   "execution_count": 13,
   "metadata": {},
   "outputs": [
    {
     "data": {
      "text/html": [
       "<div>\n",
       "<style scoped>\n",
       "    .dataframe tbody tr th:only-of-type {\n",
       "        vertical-align: middle;\n",
       "    }\n",
       "\n",
       "    .dataframe tbody tr th {\n",
       "        vertical-align: top;\n",
       "    }\n",
       "\n",
       "    .dataframe thead th {\n",
       "        text-align: right;\n",
       "    }\n",
       "</style>\n",
       "<table border=\"1\" class=\"dataframe\">\n",
       "  <thead>\n",
       "    <tr style=\"text-align: right;\">\n",
       "      <th></th>\n",
       "      <th>movie_title</th>\n",
       "      <th>content_rating</th>\n",
       "      <th>imdb_id</th>\n",
       "      <th>imdb_link</th>\n",
       "      <th>postername</th>\n",
       "      <th>poster_link</th>\n",
       "      <th>id</th>\n",
       "    </tr>\n",
       "  </thead>\n",
       "  <tbody>\n",
       "    <tr>\n",
       "      <th>0</th>\n",
       "      <td>Avatar</td>\n",
       "      <td>PG-13</td>\n",
       "      <td>tt0499549</td>\n",
       "      <td>https://www.imdb.com/title/tt0499549</td>\n",
       "      <td>Avatar Poster</td>\n",
       "      <td>https://m.media-amazon.com/images/M/MV5BMTYwOT...</td>\n",
       "      <td>0</td>\n",
       "    </tr>\n",
       "    <tr>\n",
       "      <th>1</th>\n",
       "      <td>Pirates of the Caribbean: At World's End</td>\n",
       "      <td>PG-13</td>\n",
       "      <td>tt0449088</td>\n",
       "      <td>https://www.imdb.com/title/tt0449088</td>\n",
       "      <td>Pirates of the Caribbean: At World's End Poster</td>\n",
       "      <td>https://m.media-amazon.com/images/M/MV5BMjIyNj...</td>\n",
       "      <td>1</td>\n",
       "    </tr>\n",
       "    <tr>\n",
       "      <th>2</th>\n",
       "      <td>Spectre</td>\n",
       "      <td>PG-13</td>\n",
       "      <td>tt2379713</td>\n",
       "      <td>https://www.imdb.com/title/tt2379713</td>\n",
       "      <td>Spectre Poster</td>\n",
       "      <td>https://m.media-amazon.com/images/M/MV5BOWQ1MD...</td>\n",
       "      <td>2</td>\n",
       "    </tr>\n",
       "    <tr>\n",
       "      <th>3</th>\n",
       "      <td>The Dark Knight Rises</td>\n",
       "      <td>PG-13</td>\n",
       "      <td>tt1345836</td>\n",
       "      <td>https://www.imdb.com/title/tt1345836</td>\n",
       "      <td>The Dark Knight Rises Poster</td>\n",
       "      <td>https://m.media-amazon.com/images/M/MV5BMTk4OD...</td>\n",
       "      <td>3</td>\n",
       "    </tr>\n",
       "    <tr>\n",
       "      <th>4</th>\n",
       "      <td>John Carter</td>\n",
       "      <td>PG-13</td>\n",
       "      <td>tt0401729</td>\n",
       "      <td>https://www.imdb.com/title/tt0401729</td>\n",
       "      <td>John Carter Poster</td>\n",
       "      <td>https://m.media-amazon.com/images/M/MV5BMDEwZm...</td>\n",
       "      <td>4</td>\n",
       "    </tr>\n",
       "    <tr>\n",
       "      <th>...</th>\n",
       "      <td>...</td>\n",
       "      <td>...</td>\n",
       "      <td>...</td>\n",
       "      <td>...</td>\n",
       "      <td>...</td>\n",
       "      <td>...</td>\n",
       "      <td>...</td>\n",
       "    </tr>\n",
       "    <tr>\n",
       "      <th>4990</th>\n",
       "      <td>El Mariachi</td>\n",
       "      <td>R</td>\n",
       "      <td>tt0104815</td>\n",
       "      <td>https://www.imdb.com/title/tt0104815</td>\n",
       "      <td>El Mariachi Poster</td>\n",
       "      <td>https://m.media-amazon.com/images/M/MV5BNjMwNz...</td>\n",
       "      <td>4990</td>\n",
       "    </tr>\n",
       "    <tr>\n",
       "      <th>4991</th>\n",
       "      <td>The Mongol King</td>\n",
       "      <td>PG-13</td>\n",
       "      <td>tt0430371</td>\n",
       "      <td>https://www.imdb.com/title/tt0430371</td>\n",
       "      <td>The Mongol King Poster</td>\n",
       "      <td>https://m.media-amazon.com/images/M/MV5BMjA2Nz...</td>\n",
       "      <td>4991</td>\n",
       "    </tr>\n",
       "    <tr>\n",
       "      <th>4992</th>\n",
       "      <td>Newlyweds</td>\n",
       "      <td>Not Rated</td>\n",
       "      <td>tt1880418</td>\n",
       "      <td>https://www.imdb.com/title/tt1880418</td>\n",
       "      <td>Newlyweds Poster</td>\n",
       "      <td>https://m.media-amazon.com/images/M/MV5BMjAzNT...</td>\n",
       "      <td>4992</td>\n",
       "    </tr>\n",
       "    <tr>\n",
       "      <th>4994</th>\n",
       "      <td>Shanghai Calling</td>\n",
       "      <td>PG-13</td>\n",
       "      <td>tt2070597</td>\n",
       "      <td>https://www.imdb.com/title/tt2070597</td>\n",
       "      <td>Shanghai Calling Poster</td>\n",
       "      <td>https://m.media-amazon.com/images/M/MV5BNjA1OD...</td>\n",
       "      <td>4994</td>\n",
       "    </tr>\n",
       "    <tr>\n",
       "      <th>4995</th>\n",
       "      <td>My Date with Drew</td>\n",
       "      <td>PG</td>\n",
       "      <td>tt0378407</td>\n",
       "      <td>https://www.imdb.com/title/tt0378407</td>\n",
       "      <td>My Date with Drew Poster</td>\n",
       "      <td>https://m.media-amazon.com/images/M/MV5BMjM1ZG...</td>\n",
       "      <td>4995</td>\n",
       "    </tr>\n",
       "  </tbody>\n",
       "</table>\n",
       "<p>4875 rows × 7 columns</p>\n",
       "</div>"
      ],
      "text/plain": [
       "                                   movie_title content_rating    imdb_id  \\\n",
       "0                                       Avatar          PG-13  tt0499549   \n",
       "1     Pirates of the Caribbean: At World's End          PG-13  tt0449088   \n",
       "2                                      Spectre          PG-13  tt2379713   \n",
       "3                        The Dark Knight Rises          PG-13  tt1345836   \n",
       "4                                  John Carter          PG-13  tt0401729   \n",
       "...                                        ...            ...        ...   \n",
       "4990                               El Mariachi              R  tt0104815   \n",
       "4991                           The Mongol King          PG-13  tt0430371   \n",
       "4992                                 Newlyweds      Not Rated  tt1880418   \n",
       "4994                          Shanghai Calling          PG-13  tt2070597   \n",
       "4995                         My Date with Drew             PG  tt0378407   \n",
       "\n",
       "                                 imdb_link  \\\n",
       "0     https://www.imdb.com/title/tt0499549   \n",
       "1     https://www.imdb.com/title/tt0449088   \n",
       "2     https://www.imdb.com/title/tt2379713   \n",
       "3     https://www.imdb.com/title/tt1345836   \n",
       "4     https://www.imdb.com/title/tt0401729   \n",
       "...                                    ...   \n",
       "4990  https://www.imdb.com/title/tt0104815   \n",
       "4991  https://www.imdb.com/title/tt0430371   \n",
       "4992  https://www.imdb.com/title/tt1880418   \n",
       "4994  https://www.imdb.com/title/tt2070597   \n",
       "4995  https://www.imdb.com/title/tt0378407   \n",
       "\n",
       "                                           postername  \\\n",
       "0                                       Avatar Poster   \n",
       "1     Pirates of the Caribbean: At World's End Poster   \n",
       "2                                      Spectre Poster   \n",
       "3                        The Dark Knight Rises Poster   \n",
       "4                                  John Carter Poster   \n",
       "...                                               ...   \n",
       "4990                               El Mariachi Poster   \n",
       "4991                           The Mongol King Poster   \n",
       "4992                                 Newlyweds Poster   \n",
       "4994                          Shanghai Calling Poster   \n",
       "4995                         My Date with Drew Poster   \n",
       "\n",
       "                                            poster_link    id  \n",
       "0     https://m.media-amazon.com/images/M/MV5BMTYwOT...     0  \n",
       "1     https://m.media-amazon.com/images/M/MV5BMjIyNj...     1  \n",
       "2     https://m.media-amazon.com/images/M/MV5BOWQ1MD...     2  \n",
       "3     https://m.media-amazon.com/images/M/MV5BMTk4OD...     3  \n",
       "4     https://m.media-amazon.com/images/M/MV5BMDEwZm...     4  \n",
       "...                                                 ...   ...  \n",
       "4990  https://m.media-amazon.com/images/M/MV5BNjMwNz...  4990  \n",
       "4991  https://m.media-amazon.com/images/M/MV5BMjA2Nz...  4991  \n",
       "4992  https://m.media-amazon.com/images/M/MV5BMjAzNT...  4992  \n",
       "4994  https://m.media-amazon.com/images/M/MV5BNjA1OD...  4994  \n",
       "4995  https://m.media-amazon.com/images/M/MV5BMjM1ZG...  4995  \n",
       "\n",
       "[4875 rows x 7 columns]"
      ]
     },
     "execution_count": 13,
     "metadata": {},
     "output_type": "execute_result"
    }
   ],
   "source": [
    "df_movietotal"
   ]
  },
  {
   "cell_type": "markdown",
   "metadata": {},
   "source": [
    "# Step 4: _Poster Images Preprocessing and Final Dataset Construction_\n",
    "\n",
    "*Before starting with the Convolutional Neural Network, we need to preprocess the images in order to construct a final dataset that can be used to train our CNN. *<br> \n",
    "\n",
    "*In the following cells we define functions used for preprocessing. This functions allow to reshape poster images so that all of them has the same size, that will match the input size of our CNN. Once this is done, we read all poster images (using the Python library _imageio_), getting as output a numpy array, which comes with a dict of meta data at its ‘meta’ attribute.* \n",
    "\n",
    "**(Original Description from Davide project.)**\n",
    "\n",
    "\n"
   ]
  },
  {
   "cell_type": "code",
   "execution_count": 14,
   "metadata": {},
   "outputs": [],
   "source": [
    "image_glob = glob.glob(savelocation + \"*.jpg\")\n",
    "img_dict = {}\n",
    "\n",
    "\n",
    "def get_id(filename):\n",
    "    index_s = filename.rfind(\"/\") + 1\n",
    "    index_f = filename.rfind(\".jpg\")\n",
    "    return filename[index_s:index_f]"
   ]
  },
  {
   "cell_type": "code",
   "execution_count": 15,
   "metadata": {},
   "outputs": [],
   "source": [
    "for fn in image_glob:\n",
    "    try:\n",
    "        img_dict[get_id(fn)] = imageio.imread(fn)\n",
    "    except:\n",
    "        pass"
   ]
  },
  {
   "cell_type": "code",
   "execution_count": 16,
   "metadata": {},
   "outputs": [],
   "source": [
    "def show_img(id):\n",
    "    title = df_movietotal[df_movietotal[\"imdb_id\"] == id][\"movie_title\"].values[0]\n",
    "    rating = df_movietotal[df_movietotal[\"imdb_id\"] == id][\"content_rating\"].values[0]\n",
    "    plt.imshow(img_dict[id])\n",
    "    plt.title(\"{} \\n {}\".format(title, rating))"
   ]
  },
  {
   "cell_type": "code",
   "execution_count": 17,
   "metadata": {},
   "outputs": [],
   "source": [
    "def preprocess(img, size=(150, 101, 3)):\n",
    "    img = skimage.transform.resize(img, size)\n",
    "    img = img.astype(np.float32)\n",
    "    img = (img / 127.5) - 1.\n",
    "    return img"
   ]
  },
  {
   "cell_type": "code",
   "execution_count": 18,
   "metadata": {},
   "outputs": [],
   "source": [
    "def prepare_data(data, img_dict, label_dict, size=(150, 101, 3)):\n",
    "    print(\"Generation dataset...\")\n",
    "    dataset = []\n",
    "    y = []\n",
    "    ids = []\n",
    "    n_samples = len(img_dict)\n",
    "    print(\"got {} posters\".format(n_samples))\n",
    "    for k in img_dict:\n",
    "        if k in data[\"imdb_id\"].values:\n",
    "            g = data[data[\"imdb_id\"] == k][\"content_rating\"].values\n",
    "            img = preprocess(img_dict[k], size)\n",
    "            if img.shape != (150, 101, 3):\n",
    "                continue\n",
    "            l = np.sum([np.eye(n_classes, dtype=\"uint8\")[label_dict[\"word2idx\"][s]] \n",
    "                                                            for s in g], axis=0)\n",
    "            y.append(l)\n",
    "            dataset.append(img)\n",
    "            ids.append(k)\n",
    "    print(\"DONE\")\n",
    "    print(len(dataset))\n",
    "    return dataset, y, ids"
   ]
  },
  {
   "cell_type": "code",
   "execution_count": 19,
   "metadata": {},
   "outputs": [],
   "source": [
    "df_movietotal = df_movietotal[['content_rating', 'imdb_id', 'movie_title']]"
   ]
  },
  {
   "cell_type": "code",
   "execution_count": 20,
   "metadata": {},
   "outputs": [
    {
     "name": "stdout",
     "output_type": "stream",
     "text": [
      "Generation dataset...\n",
      "got 4617 posters\n",
      "DONE\n",
      "4504\n"
     ]
    }
   ],
   "source": [
    "import skimage.transform\n",
    "SIZE = (150, 101, 3)\n",
    "dataset, y, ids =  prepare_data(df_movietotal, img_dict, label_dict, size=SIZE)"
   ]
  },
  {
   "cell_type": "markdown",
   "metadata": {},
   "source": [
    "# Step 5: _Convolutional Neural Network (using Tensorflow.Keras Framework)_\n",
    "\n",
    "### Model Construction \n",
    "We used the Tensorflow.Keras Framework for ease of implementation and saving models. <br>\n",
    "\n",
    "The Keras model type that we will be using is Sequential, which is the easiest way to build a model, since it allows to to build a model layer by layer. <br>\n",
    "\n",
    "Our first 4 layers are __Conv2D layers__. These are **convolution layers** applies filter to images with a given kernel_size. <br>\n",
    "The first of these has **32** nodes, the second and the last have **64** nodes, while the third has **128** nodes. <br>\n",
    "The first layer also takes an input shape, which is is the shape of each input image. \n",
    "\n",
    "In our case the size of the filter matrix is 3, which means we will have a 3x3 filter matrix for each Conv2D layer. \n",
    "\n",
    "There is also a **Pooling layer** which decides how the value after each filtering is chosen, we utilized MaxPooling and AveragePooling.\n",
    "\n",
    "In between the Conv2D layers and the Dense layer, there is a **Flatten layer**, used as a connection between the convolution and dense layers.\n",
    "\n",
    "The next layers are the fully connected layers which includes Dense and Flatten layers.  \n",
    "\n",
    "The loss function we chose is _________ and while we are not sure about the minimizing strategy, the BP process follows along.\n",
    "\n",
    "**Our model may not be predicting very well due to the small sample size we have and may affect the voting process, overall our model shall perform much better with larger sample size.**"
   ]
  },
  {
   "cell_type": "code",
   "execution_count": 21,
   "metadata": {},
   "outputs": [],
   "source": [
    "import tensorflow as tf\n",
    "from tensorflow.keras import datasets, layers, models\n",
    "from sklearn.model_selection import train_test_split"
   ]
  },
  {
   "cell_type": "code",
   "execution_count": 22,
   "metadata": {},
   "outputs": [],
   "source": [
    "X_train, X_test, y_train, y_test = train_test_split(dataset, y, train_size = 0.95, test_size=0.05)"
   ]
  },
  {
   "cell_type": "code",
   "execution_count": 23,
   "metadata": {},
   "outputs": [],
   "source": [
    "model = models.Sequential()\n",
    "model.add(layers.Conv2D(32, (3, 3), activation='relu', input_shape=(SIZE[0], SIZE[1], 3)))\n",
    "model.add(layers.Conv2D(64, (3, 3), activation='relu'))\n",
    "model.add(layers.MaxPooling2D((2, 2)))\n",
    "model.add(layers.Dropout(0.25))\n",
    "\n",
    "\n",
    "\n",
    "model.add(layers.Conv2D(128, kernel_size=(3, 3), activation='relu'))\n",
    "model.add(layers.Conv2D(64, (3, 3), activation='relu'))\n",
    "model.add(layers.AveragePooling2D(pool_size=(2, 2)))\n",
    "model.add(layers.Dropout(0.25))\n",
    "\n",
    "\n",
    "model.add(layers.Flatten())\n",
    "model.add(layers.Dense(128, activation='sigmoid'))\n",
    "model.add(layers.Dropout(0.5))\n",
    "model.add(layers.Dense(7))"
   ]
  },
  {
   "cell_type": "code",
   "execution_count": 24,
   "metadata": {},
   "outputs": [
    {
     "name": "stdout",
     "output_type": "stream",
     "text": [
      "Model: \"sequential\"\n",
      "_________________________________________________________________\n",
      "Layer (type)                 Output Shape              Param #   \n",
      "=================================================================\n",
      "conv2d (Conv2D)              (None, 148, 99, 32)       896       \n",
      "_________________________________________________________________\n",
      "conv2d_1 (Conv2D)            (None, 146, 97, 64)       18496     \n",
      "_________________________________________________________________\n",
      "max_pooling2d (MaxPooling2D) (None, 73, 48, 64)        0         \n",
      "_________________________________________________________________\n",
      "dropout (Dropout)            (None, 73, 48, 64)        0         \n",
      "_________________________________________________________________\n",
      "conv2d_2 (Conv2D)            (None, 71, 46, 128)       73856     \n",
      "_________________________________________________________________\n",
      "conv2d_3 (Conv2D)            (None, 69, 44, 64)        73792     \n",
      "_________________________________________________________________\n",
      "average_pooling2d (AveragePo (None, 34, 22, 64)        0         \n",
      "_________________________________________________________________\n",
      "dropout_1 (Dropout)          (None, 34, 22, 64)        0         \n",
      "_________________________________________________________________\n",
      "flatten (Flatten)            (None, 47872)             0         \n",
      "_________________________________________________________________\n",
      "dense (Dense)                (None, 128)               6127744   \n",
      "_________________________________________________________________\n",
      "dropout_2 (Dropout)          (None, 128)               0         \n",
      "_________________________________________________________________\n",
      "dense_1 (Dense)              (None, 7)                 903       \n",
      "=================================================================\n",
      "Total params: 6,295,687\n",
      "Trainable params: 6,295,687\n",
      "Non-trainable params: 0\n",
      "_________________________________________________________________\n"
     ]
    }
   ],
   "source": [
    "model.summary()"
   ]
  },
  {
   "cell_type": "code",
   "execution_count": 27,
   "metadata": {},
   "outputs": [
    {
     "name": "stdout",
     "output_type": "stream",
     "text": [
      "Epoch 1/5\n",
      "241/241 [==============================] - 151s 623ms/step - loss: 2.1587 - accuracy: 0.2033 - val_loss: 1.4610 - val_accuracy: 0.4673\n",
      "Epoch 2/5\n",
      "241/241 [==============================] - 150s 623ms/step - loss: 1.6633 - accuracy: 0.3648 - val_loss: 1.4709 - val_accuracy: 0.4673\n",
      "Epoch 3/5\n",
      "241/241 [==============================] - 148s 614ms/step - loss: 1.6322 - accuracy: 0.3737 - val_loss: 1.7035 - val_accuracy: 0.4673\n",
      "Epoch 4/5\n",
      "241/241 [==============================] - 163s 676ms/step - loss: 1.5806 - accuracy: 0.4137 - val_loss: 1.8125 - val_accuracy: 0.2921\n",
      "Epoch 5/5\n",
      "241/241 [==============================] - 143s 595ms/step - loss: 1.6686 - accuracy: 0.2752 - val_loss: 0.8477 - val_accuracy: 0.2921\n"
     ]
    }
   ],
   "source": [
    "model.compile(loss='binary_crossentropy',\n",
    "              optimizer=tf.keras.optimizers.Adagrad(),\n",
    "              metrics=['accuracy'])\n",
    "\n",
    "\n",
    "history = model.fit(np.array(X_train), np.array(y_train), batch_size=16, epochs=5,\n",
    "                      verbose=1, validation_split=0.1)"
   ]
  },
  {
   "cell_type": "code",
   "execution_count": 28,
   "metadata": {},
   "outputs": [],
   "source": [
    "pred = model.predict(np.array(X_test))"
   ]
  },
  {
   "cell_type": "code",
   "execution_count": 29,
   "metadata": {},
   "outputs": [],
   "source": [
    "def accuracy_score(y_test, pred):\n",
    "    value = 0\n",
    "    for i in range(0, len(pred)):\n",
    "        first_index = np.argsort(pred[i])[-1:]\n",
    "        correct = np.where(y_test[i] == 1)[0]\n",
    "        if first_index in correct:\n",
    "            value += 1\n",
    "    print(value/len(pred))"
   ]
  },
  {
   "cell_type": "code",
   "execution_count": 30,
   "metadata": {
    "scrolled": false
   },
   "outputs": [
    {
     "name": "stdout",
     "output_type": "stream",
     "text": [
      "0.3141592920353982\n"
     ]
    }
   ],
   "source": [
    "accuracy_score(y_test, pred)"
   ]
  },
  {
   "cell_type": "markdown",
   "metadata": {},
   "source": [
    "### Save model"
   ]
  },
  {
   "cell_type": "markdown",
   "metadata": {},
   "source": [
    "#### We saved our model for the use of our client."
   ]
  },
  {
   "cell_type": "code",
   "execution_count": 31,
   "metadata": {},
   "outputs": [
    {
     "name": "stdout",
     "output_type": "stream",
     "text": [
      "INFO:tensorflow:Assets written to: rating_model/assets\n"
     ]
    }
   ],
   "source": [
    "# Save Model\n",
    "from tensorflow.keras.models import load_model, save_model, Model\n",
    "\n",
    "model.save(\"rating_model\")"
   ]
  },
  {
   "cell_type": "markdown",
   "metadata": {},
   "source": [
    "### Load Model"
   ]
  },
  {
   "cell_type": "code",
   "execution_count": 32,
   "metadata": {},
   "outputs": [],
   "source": [
    "model_test = tf.keras.models.load_model('rating_model')"
   ]
  },
  {
   "cell_type": "code",
   "execution_count": 33,
   "metadata": {},
   "outputs": [
    {
     "name": "stdout",
     "output_type": "stream",
     "text": [
      "Model: \"sequential\"\n",
      "_________________________________________________________________\n",
      "Layer (type)                 Output Shape              Param #   \n",
      "=================================================================\n",
      "conv2d (Conv2D)              (None, 148, 99, 32)       896       \n",
      "_________________________________________________________________\n",
      "conv2d_1 (Conv2D)            (None, 146, 97, 64)       18496     \n",
      "_________________________________________________________________\n",
      "max_pooling2d (MaxPooling2D) (None, 73, 48, 64)        0         \n",
      "_________________________________________________________________\n",
      "dropout (Dropout)            (None, 73, 48, 64)        0         \n",
      "_________________________________________________________________\n",
      "conv2d_2 (Conv2D)            (None, 71, 46, 128)       73856     \n",
      "_________________________________________________________________\n",
      "conv2d_3 (Conv2D)            (None, 69, 44, 64)        73792     \n",
      "_________________________________________________________________\n",
      "average_pooling2d (AveragePo (None, 34, 22, 64)        0         \n",
      "_________________________________________________________________\n",
      "dropout_1 (Dropout)          (None, 34, 22, 64)        0         \n",
      "_________________________________________________________________\n",
      "flatten (Flatten)            (None, 47872)             0         \n",
      "_________________________________________________________________\n",
      "dense (Dense)                (None, 128)               6127744   \n",
      "_________________________________________________________________\n",
      "dropout_2 (Dropout)          (None, 128)               0         \n",
      "_________________________________________________________________\n",
      "dense_1 (Dense)              (None, 7)                 903       \n",
      "=================================================================\n",
      "Total params: 6,295,687\n",
      "Trainable params: 6,295,687\n",
      "Non-trainable params: 0\n",
      "_________________________________________________________________\n"
     ]
    }
   ],
   "source": [
    "model_test.summary()"
   ]
  },
  {
   "cell_type": "code",
   "execution_count": null,
   "metadata": {},
   "outputs": [],
   "source": []
  }
 ],
 "metadata": {
  "kernelspec": {
   "display_name": "Python 3",
   "language": "python",
   "name": "python3"
  },
  "language_info": {
   "codemirror_mode": {
    "name": "ipython",
    "version": 3
   },
   "file_extension": ".py",
   "mimetype": "text/x-python",
   "name": "python",
   "nbconvert_exporter": "python",
   "pygments_lexer": "ipython3",
   "version": "3.8.0"
  }
 },
 "nbformat": 4,
 "nbformat_minor": 2
}
